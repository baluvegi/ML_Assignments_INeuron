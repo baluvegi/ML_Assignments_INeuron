{
 "cells": [
  {
   "cell_type": "markdown",
   "metadata": {},
   "source": [
    "## Task 1:"
   ]
  },
  {
   "cell_type": "markdown",
   "metadata": {},
   "source": [
    "1. Write a function to compute 5/0 and use try/except to catch the exceptions. "
   ]
  },
  {
   "cell_type": "code",
   "execution_count": 5,
   "metadata": {},
   "outputs": [
    {
     "name": "stdout",
     "output_type": "stream",
     "text": [
      "division by zero\n"
     ]
    }
   ],
   "source": [
    "def trycatch():\n",
    "    try:\n",
    "        5/0\n",
    "    except ZeroDivisionError as error:\n",
    "        print(error)\n",
    " \n",
    "trycatch()"
   ]
  },
  {
   "cell_type": "markdown",
   "metadata": {},
   "source": [
    "2. \n",
    "Implement a Python program to generate all sentences where subject is in [\"Americans\", \"Indians\"] and verb is in [\"Play\", \"watch\"] and the object is in [\"Baseball\",\"cricket\"]. \n",
    " \n",
    "Hint: Subject,Verb and Object should be declared in the program as shown below. \n",
    " \n",
    "subjects=[\"Americans \",\"Indians\"] verbs=[\"play\",\"watch\"] objects=[\"Baseball\",\"Cricket\"] \n",
    " \n",
    "Output should come as below: \n",
    " \n",
    "Americans  play Baseball. \n",
    "Americans  play Cricket. \n",
    "Americans  watch Baseball. \n",
    "Americans  watch Cricket. \n",
    "Indians play Baseball. \n",
    "Indians play Cricket. \n",
    "Indians watch Baseball. \n",
    "Indians watch Cricket. \n"
   ]
  },
  {
   "cell_type": "code",
   "execution_count": 31,
   "metadata": {},
   "outputs": [
    {
     "name": "stdout",
     "output_type": "stream",
     "text": [
      "Americans play Baseball. Americans play Cricket. Americans watch Baseball. Americans watch Cricket. Indians play Baseball. Indians play Cricket. Indians watch Baseball. Indians watch Cricket. "
     ]
    }
   ],
   "source": [
    "def gen_sentence():\n",
    "    subject = ['Americans','Indians']\n",
    "    verbs = ['play','watch']\n",
    "    objects = ['Baseball','Cricket']\n",
    "    x=[]\n",
    "    for i in subject:\n",
    "        for j in verbs:\n",
    "            for k in objects:\n",
    "                print(i,j,k,end='. ')\n",
    "\n",
    "gen_sentence()"
   ]
  },
  {
   "cell_type": "markdown",
   "metadata": {},
   "source": [
    "## Task 2:"
   ]
  },
  {
   "cell_type": "markdown",
   "metadata": {},
   "source": [
    "1.  \n",
    " \n",
    "Write a function so that the columns of the output matrix are powers of the input vector.  \n",
    "The order of the powers is determined by the increasing boolean argument. Specifically, when increasing is False, the i-th output column is the input vector raised element-wise to the power of N - i - 1.  \n",
    " \n",
    "HINT: Such a matrix with a geometric progression in each row is named for Alexandre- Theophile Vandermonde. \n",
    " \n",
    " \n",
    "NOTE: The solution shared through Github should contain the source code  used\t  and\t  the\t  screenshot of the  output. \n"
   ]
  },
  {
   "cell_type": "code",
   "execution_count": 2,
   "metadata": {},
   "outputs": [
    {
     "name": "stdout",
     "output_type": "stream",
     "text": [
      "Enter a number: 6\n"
     ]
    },
    {
     "data": {
      "text/plain": [
       "array([[    1,     3,     9,    27,    81,   243],\n",
       "       [    1,     4,    16,    64,   256,  1024],\n",
       "       [    1,     6,    36,   216,  1296,  7776],\n",
       "       [    1,     7,    49,   343,  2401, 16807]])"
      ]
     },
     "execution_count": 2,
     "metadata": {},
     "output_type": "execute_result"
    }
   ],
   "source": [
    "import numpy as np\n",
    "\n",
    "def gen_matrix(N,increasing = False):\n",
    "    \n",
    "    ar = np.array([3,4,6,7])\n",
    "    if increasing == False:\n",
    "        mat = np.array([m**(N-1-i) for m in ar for i in range(N)]).reshape(ar.size,N)\n",
    "    elif increasing == True:\n",
    "        mat = np.array([m**(i) for m in ar for i in range(N)]).reshape(ar.size,N)\n",
    "\n",
    "    return mat\n",
    "  \n",
    "gen_matrix(int(input('Enter a number: ')),True)"
   ]
  }
 ],
 "metadata": {
  "kernelspec": {
   "display_name": "Python 3",
   "language": "python",
   "name": "python3"
  },
  "language_info": {
   "codemirror_mode": {
    "name": "ipython",
    "version": 3
   },
   "file_extension": ".py",
   "mimetype": "text/x-python",
   "name": "python",
   "nbconvert_exporter": "python",
   "pygments_lexer": "ipython3",
   "version": "3.7.3"
  }
 },
 "nbformat": 4,
 "nbformat_minor": 2
}
