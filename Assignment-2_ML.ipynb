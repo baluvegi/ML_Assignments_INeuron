{
 "cells": [
  {
   "cell_type": "markdown",
   "metadata": {},
   "source": [
    "# Assignment 2"
   ]
  },
  {
   "cell_type": "markdown",
   "metadata": {},
   "source": [
    "## Task 1:\n"
   ]
  },
  {
   "cell_type": "markdown",
   "metadata": {},
   "source": [
    "### 1.1 Write a Python Program to implement your own myreduce() function which works exactly like Python's built-in function reduce()\n"
   ]
  },
  {
   "cell_type": "code",
   "execution_count": 36,
   "metadata": {},
   "outputs": [
    {
     "name": "stdout",
     "output_type": "stream",
     "text": [
      "28\n"
     ]
    }
   ],
   "source": [
    "\n",
    "def myreduce(func,lst):\n",
    "    lst = list(lst)\n",
    "    for i in range(0,len(lst)):\n",
    "        if i==0:\n",
    "            x = lst[i]\n",
    "        else:\n",
    "            x = func(x,lst[i]) \n",
    "    print(x)\n",
    "\n",
    "myreduce(lambda t,l:t+l,(1,2,3,4,5,6,7))\n",
    "\n"
   ]
  },
  {
   "cell_type": "markdown",
   "metadata": {},
   "source": [
    "### 1.2 Write a Python program to implement your own myfilter() function which works exactly like Python's built-in function filter()\n"
   ]
  },
  {
   "cell_type": "code",
   "execution_count": 49,
   "metadata": {},
   "outputs": [
    {
     "data": {
      "text/plain": [
       "[1, 5, 7]"
      ]
     },
     "execution_count": 49,
     "metadata": {},
     "output_type": "execute_result"
    }
   ],
   "source": [
    "def myfilter(func,lst):\n",
    "    lst = list(lst)\n",
    "    y = list()\n",
    "    for i in range(0,len(lst)):\n",
    "        x = func(lst[i])\n",
    "        if x != False:\n",
    "            y.append(x)\n",
    "    return y\n",
    "        \n",
    "def even_no(var):\n",
    "    if var%2 == 0:\n",
    "        return var\n",
    "    else:\n",
    "        return False\n",
    "        \n",
    "def odd_no(var):\n",
    "    if var%2 != 0:\n",
    "        return var\n",
    "    else:\n",
    "        return False\n",
    "        \n",
    "myfilter(odd_no,(1,2,4,5,6,7,8))\n",
    "        "
   ]
  },
  {
   "cell_type": "markdown",
   "metadata": {},
   "source": [
    "### 2.\n",
    "### Implement List comprehensions to produce the following lists.\n",
    "### Write List comprehensions to produce the following Lists\n",
    "### ['A', 'C', 'A', 'D', 'G', 'I', ’L’, ‘ D’]\n",
    "### ['x', 'xx', 'xxx', 'xxxx', 'y', 'yy', 'yyy', 'yyyy', 'z', 'zz', 'zzz', 'zzzz']\n",
    "### ['x', 'y', 'z', 'xx', 'yy', 'zz', 'xx', 'yy', 'zz', 'xxxx', 'yyyy', 'zzzz']\n",
    "### [[2], [3], [4], [3], [4], [5], [4], [5], [6]]\n",
    "### [[2, 3, 4, 5], [3, 4, 5, 6], [4, 5, 6, 7], [5, 6, 7, 8]]\n",
    "### [(1, 1), (2, 1), (3, 1), (1, 2), (2, 2), (3, 2), (1, 3), (2, 3), (3, 3)]\n"
   ]
  },
  {
   "cell_type": "code",
   "execution_count": 23,
   "metadata": {},
   "outputs": [
    {
     "name": "stdout",
     "output_type": "stream",
     "text": [
      "['A', 'C', 'A', 'D', 'G', 'I', 'L', 'D']\n",
      "['x', 'xx', 'xxx', 'xxxx', 'y', 'yy', 'yyy', 'yyyy', 'z', 'zz', 'zzz', 'zzzz']\n",
      "['x', 'y', 'z', 'xx', 'yy', 'zz', 'xxx', 'yyy', 'zzz', 'xxxx', 'yyyy', 'zzzz']\n",
      "[[2], [3], [4], [3], [4], [5], [4], [5], [6]]\n",
      "[[2, 3, 4, 5], [3, 4, 5, 6], [4, 5, 6, 7], [5, 6, 7, 8]]\n",
      "[(1, 1), (2, 1), (3, 1), (1, 2), (2, 2), (3, 2), (1, 3), (2, 3), (3, 3)]\n"
     ]
    }
   ],
   "source": [
    "print([i for i in 'ACADGILD'])\n",
    "print(list([i*p for i in 'xyz' for p in range(1,5)]))\n",
    "print([val for mat in[[i*p for i in 'xyz'] for p in range(1,5)] for val in mat])\n",
    "print([val for mat in[[[n+i] for n in range(2,5)] for i in range(3)]for val in mat])\n",
    "print([[n+i for n in range(1,5)] for i in range(1,5)])\n",
    "print([(i+1,n+1) for n in range(0,3) for i in range(0,3)])"
   ]
  },
  {
   "cell_type": "markdown",
   "metadata": {},
   "source": [
    "### 3. Implement a function longestWord() that takes a list of words and returns the longest one.\n"
   ]
  },
  {
   "cell_type": "code",
   "execution_count": 3,
   "metadata": {},
   "outputs": [
    {
     "name": "stdout",
     "output_type": "stream",
     "text": [
      "words\n"
     ]
    }
   ],
   "source": [
    "\n",
    "\n",
    "def longestWord(lst):\n",
    "    \n",
    "    lt = ''\n",
    "    for i in lst:\n",
    "        if len(i) > len(lt):\n",
    "            lt = i\n",
    "            \n",
    "    return lt\n",
    "\n",
    "print(longestWord(['This','is','the','list','of','words']))\n"
   ]
  },
  {
   "cell_type": "markdown",
   "metadata": {},
   "source": [
    "## Task 2:"
   ]
  },
  {
   "cell_type": "markdown",
   "metadata": {},
   "source": [
    "### 1.1\n",
    "### Write a Python Program(with class concepts) to find the area of the triangle using the below formula.\n",
    "### area = (s*(s-a)*(s-b)*(s-c)) ** 0.5\n",
    "### Function to take the length of the sides of triangle from user should be defined in the parent class and function to calculate the area should be defined in subclass.\n"
   ]
  },
  {
   "cell_type": "code",
   "execution_count": 59,
   "metadata": {},
   "outputs": [
    {
     "name": "stdout",
     "output_type": "stream",
     "text": [
      "Enter the length of the side 1: 4\n",
      "Enter the length of the side 2: 5\n",
      "Enter the length of the side 3: 6\n"
     ]
    },
    {
     "data": {
      "text/plain": [
       "'The Area of the Triangle is : 9.92'"
      ]
     },
     "execution_count": 59,
     "metadata": {},
     "output_type": "execute_result"
    }
   ],
   "source": [
    "class ParentClass:\n",
    "    \n",
    "    a = float(input('Enter the length of the side 1: '))\n",
    "    b = float(input('Enter the length of the side 2: '))\n",
    "    c = float(input('Enter the length of the side 3: '))\n",
    "\n",
    "\n",
    "    def __int__(self,a,b,c):\n",
    "        self.a = a\n",
    "        self.b = b\n",
    "        self.c = c\n",
    "    \n",
    "class SubClass(ParentClass):\n",
    "        def __init__(self,*args):\n",
    "            super(SubClass,self).__init__(*args)\n",
    "\n",
    "        def AreaofTriangle(self):\n",
    "            s = (self.a+self.b+self.c)/2\n",
    "            area = (s*(s-self.a)*(s-self.b)*(s-self.c))**0.5\n",
    "            return 'The Area of the Triangle is : %0.2f' %area\n",
    "\n",
    "t = SubClass()\n",
    "t.AreaofTriangle()"
   ]
  },
  {
   "cell_type": "markdown",
   "metadata": {},
   "source": [
    "### 1.2 Write a function filter_long_words() that takes a list of words and an integer n and returns the list of words that are longer than n.\n"
   ]
  },
  {
   "cell_type": "code",
   "execution_count": 75,
   "metadata": {},
   "outputs": [
    {
     "name": "stdout",
     "output_type": "stream",
     "text": [
      "Enter n: 4\n",
      "['words', 'longer']\n"
     ]
    }
   ],
   "source": [
    "def filter_long_words(check,lst):\n",
    "    \n",
    "    lt = []\n",
    "    for i in lst:\n",
    "        if len(i) > check:\n",
    "            lt.append(i)\n",
    "            \n",
    "    return lt\n",
    "\n",
    "\n",
    "check = int(input('Enter n: '))\n",
    "\n",
    "print(filter_long_words(check,['list','of','words','longer','than','n']))"
   ]
  },
  {
   "cell_type": "markdown",
   "metadata": {},
   "source": [
    "### 2.1 Write a Python program using function concept that maps list of words into a list of integers representing the lengths of the corresponding words.\n",
    "### Hint: If a list [ ab,cde,erty] is passed on to the python function output should come as [2,3,4]\n",
    "### Here 2,3 and 4 are the lengths of the words in the list."
   ]
  },
  {
   "cell_type": "code",
   "execution_count": 83,
   "metadata": {},
   "outputs": [
    {
     "data": {
      "text/plain": [
       "[6, 2, 3, 13, 5]"
      ]
     },
     "execution_count": 83,
     "metadata": {},
     "output_type": "execute_result"
    }
   ],
   "source": [
    "\n",
    "l =list(map(lambda x:len(x),['length','of','the','corresponding','words']))\n",
    "l"
   ]
  },
  {
   "cell_type": "markdown",
   "metadata": {},
   "source": [
    "### 2.2 Write a Python function which takes a character (i.e. a string of length 1) and returns True if it is a vowel, False otherwise.\n"
   ]
  },
  {
   "cell_type": "code",
   "execution_count": 26,
   "metadata": {},
   "outputs": [
    {
     "name": "stdout",
     "output_type": "stream",
     "text": [
      "Enter a Character: E\n"
     ]
    },
    {
     "data": {
      "text/plain": [
       "True"
      ]
     },
     "execution_count": 26,
     "metadata": {},
     "output_type": "execute_result"
    }
   ],
   "source": [
    "def check_vowel(char):\n",
    "    if len(char)>1:\n",
    "        print('Please enter only one character!')\n",
    "    else: \n",
    "        vowels = ['a','e','i','o','u']\n",
    "        cnt=0\n",
    "        for j in vowels:\n",
    "            if char.lower() == j:\n",
    "                cnt = 1\n",
    "    if cnt == 1:\n",
    "        return True\n",
    "    else:\n",
    "        return False\n",
    "    \n",
    "char = input('Enter a Character: ')\n",
    "\n",
    "check_vowel(char)\n"
   ]
  }
 ],
 "metadata": {
  "kernelspec": {
   "display_name": "Python 3",
   "language": "python",
   "name": "python3"
  },
  "language_info": {
   "codemirror_mode": {
    "name": "ipython",
    "version": 3
   },
   "file_extension": ".py",
   "mimetype": "text/x-python",
   "name": "python",
   "nbconvert_exporter": "python",
   "pygments_lexer": "ipython3",
   "version": "3.7.3"
  }
 },
 "nbformat": 4,
 "nbformat_minor": 2
}
